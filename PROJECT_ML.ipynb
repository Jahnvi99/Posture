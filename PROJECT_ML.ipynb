{
  "nbformat": 4,
  "nbformat_minor": 0,
  "metadata": {
    "colab": {
      "name": "PROJECT.ipynb",
      "provenance": [],
      "authorship_tag": "ABX9TyP+tUTXtxNqsF6KmBsG/L+N",
      "include_colab_link": true
    },
    "kernelspec": {
      "display_name": "Python 3",
      "name": "python3"
    }
  },
  "cells": [
    {
      "cell_type": "markdown",
      "metadata": {
        "id": "view-in-github",
        "colab_type": "text"
      },
      "source": [
        "<a href=\"https://colab.research.google.com/github/Jahnvi99/Posture/blob/main/PROJECT_ML.ipynb\" target=\"_parent\"><img src=\"https://colab.research.google.com/assets/colab-badge.svg\" alt=\"Open In Colab\"/></a>"
      ]
    },
    {
      "cell_type": "code",
      "metadata": {
        "id": "nkfu6dLhq6gr"
      },
      "source": [
        "from google.colab import drive\n",
        "drive.mount('/content/drive')\n",
        "\n",
        "%cd /content/drive/My Drive/Colab Notebooks"
      ],
      "execution_count": null,
      "outputs": []
    },
    {
      "cell_type": "code",
      "metadata": {
        "id": "DSw5jjBMrT1X"
      },
      "source": [
        "import pandas as pd\n",
        "from sklearn.preprocessing import LabelEncoder \n",
        "from sklearn.preprocessing import OneHotEncoder \n",
        "from sklearn.compose import ColumnTransformer \n",
        "import numpy as np\n",
        "from sklearn.model_selection import train_test_split \n",
        "from sklearn.linear_model import LogisticRegression\n",
        "from sklearn import metrics"
      ],
      "execution_count": null,
      "outputs": []
    },
    {
      "cell_type": "code",
      "metadata": {
        "id": "-cqvgmtBsSfE"
      },
      "source": [
        "df = pd.read_csv('standing_uh.csv')\n",
        "df.head()"
      ],
      "execution_count": null,
      "outputs": []
    },
    {
      "cell_type": "code",
      "metadata": {
        "colab": {
          "base_uri": "https://localhost:8080/"
        },
        "id": "gj0KJcOdu4Jf",
        "outputId": "1b4ea816-6f41-4415-f162-0378392ae785"
      },
      "source": [
        "df.type.unique()"
      ],
      "execution_count": null,
      "outputs": [
        {
          "output_type": "execute_result",
          "data": {
            "text/plain": [
              "array(['uh'], dtype=object)"
            ]
          },
          "metadata": {
            "tags": []
          },
          "execution_count": 4
        }
      ]
    },
    {
      "cell_type": "code",
      "metadata": {
        "colab": {
          "base_uri": "https://localhost:8080/"
        },
        "id": "mvvXNG3aIJFW",
        "outputId": "929351f6-b46e-42c1-c90e-57abb2723be7"
      },
      "source": [
        "updated_df.value_counts()"
      ],
      "execution_count": null,
      "outputs": [
        {
          "output_type": "execute_result",
          "data": {
            "text/plain": [
              "knee_ax  knee_ay  knee_az  knee_gx  knee_gy  knee_gz  back_ax  back_ay  back_az  back_gx  back_gy  back_gz  chest_ax  chest_ay  chest_az  chest_gx  chest_gy  chest_gz  type  activity\n",
              " 32767    32767   -10972    144      165     -655     14768     1464     6488    768       732     -1475    -15060     2732     2112      784       -1657     -2411     uh    lying       1\n",
              " 15996   -904     -5056    -480      40       278     15512     2584    -7832    432      -265      115     -14452    -304      5600      432       -252       305      uh    lying       1\n",
              "         -940     -5100    -464      38       275     15572     2636    -7684    272      -193      86      -14508    -396      5560      304       -264       208      uh    lying       1\n",
              "                  -5080    -512      24       252     15552     2520    -7664    352      -226      69      -14444    -172      5576      368       -267       289      uh    lying       1\n",
              "         -932     -5008    -528      73       310     15508     2616    -7556    192      -252      49      -14356    -380      5516      272       -313       356      uh    lying       1\n",
              "                                                                                                                                                                                         ..\n",
              " 16312   -3428    -3140    -288     -49      -20      15128     2768    -8276    224       59       219     -12444    -540      8792      480       -19        515      uh    lying       1\n",
              " 16308    3648    -4196    -288      52      -107     14840    -2588     5908    512       150     -1428    -13236     2180     7528      608       -428       805      uh    lying       1\n",
              "          2324    -3012    -208      3        257     16084     2188     3308    880      -263      160     -14824     844      4960      656       -282       169      uh    lying       1\n",
              "         -1388    -3524    -464      41       320     15388     2700    -7852    448      -220      67      -14692     280      5116      432       -236       231      uh    lying       1\n",
              "-1       -1       -1       -1       -1       -1       14240    -3080     6164    32       -220      62      -14924    -236      4988      384       -599       382      uh    lying       1\n",
              "Length: 18235, dtype: int64"
            ]
          },
          "metadata": {
            "tags": []
          },
          "execution_count": 14
        }
      ]
    },
    {
      "cell_type": "code",
      "metadata": {
        "id": "NJTtO8v-P2hn"
      },
      "source": [
        "df['type'].replace('1',1,inplace=True)"
      ],
      "execution_count": null,
      "outputs": []
    },
    {
      "cell_type": "code",
      "metadata": {
        "id": "a70x2T4ROfzP"
      },
      "source": [
        "updated_df=df.drop_duplicates()"
      ],
      "execution_count": null,
      "outputs": []
    },
    {
      "cell_type": "code",
      "metadata": {
        "id": "nFq4cJcQPUR4"
      },
      "source": [
        "dup=df[df.duplicated()]"
      ],
      "execution_count": null,
      "outputs": []
    },
    {
      "cell_type": "code",
      "metadata": {
        "colab": {
          "background_save": true,
          "base_uri": "https://localhost:8080/",
          "height": 67
        },
        "id": "ooJLTOmls1wL",
        "outputId": "a96b5186-16e6-47a1-d2a9-905d26fca62d"
      },
      "source": [
        "dup.head()"
      ],
      "execution_count": null,
      "outputs": [
        {
          "output_type": "execute_result",
          "data": {
            "text/html": [
              "<div>\n",
              "<style scoped>\n",
              "    .dataframe tbody tr th:only-of-type {\n",
              "        vertical-align: middle;\n",
              "    }\n",
              "\n",
              "    .dataframe tbody tr th {\n",
              "        vertical-align: top;\n",
              "    }\n",
              "\n",
              "    .dataframe thead th {\n",
              "        text-align: right;\n",
              "    }\n",
              "</style>\n",
              "<table border=\"1\" class=\"dataframe\">\n",
              "  <thead>\n",
              "    <tr style=\"text-align: right;\">\n",
              "      <th></th>\n",
              "      <th>knee_ax</th>\n",
              "      <th>knee_ay</th>\n",
              "      <th>knee_az</th>\n",
              "      <th>knee_gx</th>\n",
              "      <th>knee_gy</th>\n",
              "      <th>knee_gz</th>\n",
              "      <th>back_ax</th>\n",
              "      <th>back_ay</th>\n",
              "      <th>back_az</th>\n",
              "      <th>back_gx</th>\n",
              "      <th>back_gy</th>\n",
              "      <th>back_gz</th>\n",
              "      <th>chest_ax</th>\n",
              "      <th>chest_ay</th>\n",
              "      <th>chest_az</th>\n",
              "      <th>chest_gx</th>\n",
              "      <th>chest_gy</th>\n",
              "      <th>chest_gz</th>\n",
              "      <th>type</th>\n",
              "      <th>activity</th>\n",
              "    </tr>\n",
              "  </thead>\n",
              "  <tbody>\n",
              "    <tr>\n",
              "      <th>15456</th>\n",
              "      <td>512</td>\n",
              "      <td>15704.0</td>\n",
              "      <td>520.0</td>\n",
              "      <td>-3872.0</td>\n",
              "      <td>-1747.0</td>\n",
              "      <td>-888.0</td>\n",
              "      <td>232</td>\n",
              "      <td>44</td>\n",
              "      <td>1600</td>\n",
              "      <td>-3872</td>\n",
              "      <td>-2688</td>\n",
              "      <td>-196</td>\n",
              "      <td>0</td>\n",
              "      <td>156</td>\n",
              "      <td>16</td>\n",
              "      <td>-3840</td>\n",
              "      <td>-2006</td>\n",
              "      <td>512</td>\n",
              "      <td>uh</td>\n",
              "      <td>sitting</td>\n",
              "    </tr>\n",
              "    <tr>\n",
              "      <th>15457</th>\n",
              "      <td>72</td>\n",
              "      <td>15364.0</td>\n",
              "      <td>2376.0</td>\n",
              "      <td>-3840.0</td>\n",
              "      <td>-2034.0</td>\n",
              "      <td>192.0</td>\n",
              "      <td>1072</td>\n",
              "      <td>15848</td>\n",
              "      <td>2696</td>\n",
              "      <td>-3584</td>\n",
              "      <td>-3040</td>\n",
              "      <td>195</td>\n",
              "      <td>48</td>\n",
              "      <td>14920</td>\n",
              "      <td>256</td>\n",
              "      <td>-3856</td>\n",
              "      <td>-3064</td>\n",
              "      <td>640</td>\n",
              "      <td>uh</td>\n",
              "      <td>sitting</td>\n",
              "    </tr>\n",
              "    <tr>\n",
              "      <th>15458</th>\n",
              "      <td>68</td>\n",
              "      <td>44.0</td>\n",
              "      <td>3984.0</td>\n",
              "      <td>-3584.0</td>\n",
              "      <td>-1910.0</td>\n",
              "      <td>513.0</td>\n",
              "      <td>512</td>\n",
              "      <td>14848</td>\n",
              "      <td>96</td>\n",
              "      <td>-3872</td>\n",
              "      <td>-988</td>\n",
              "      <td>54</td>\n",
              "      <td>0</td>\n",
              "      <td>36</td>\n",
              "      <td>4172</td>\n",
              "      <td>-3584</td>\n",
              "      <td>-2045</td>\n",
              "      <td>609</td>\n",
              "      <td>uh</td>\n",
              "      <td>sitting</td>\n",
              "    </tr>\n",
              "    <tr>\n",
              "      <th>15459</th>\n",
              "      <td>0</td>\n",
              "      <td>15272.0</td>\n",
              "      <td>324.0</td>\n",
              "      <td>-3584.0</td>\n",
              "      <td>-1919.0</td>\n",
              "      <td>208.0</td>\n",
              "      <td>784</td>\n",
              "      <td>4</td>\n",
              "      <td>580</td>\n",
              "      <td>-3584</td>\n",
              "      <td>-1920</td>\n",
              "      <td>57</td>\n",
              "      <td>384</td>\n",
              "      <td>15104</td>\n",
              "      <td>4112</td>\n",
              "      <td>-3584</td>\n",
              "      <td>-958</td>\n",
              "      <td>64</td>\n",
              "      <td>uh</td>\n",
              "      <td>sitting</td>\n",
              "    </tr>\n",
              "    <tr>\n",
              "      <th>15460</th>\n",
              "      <td>512</td>\n",
              "      <td>15272.0</td>\n",
              "      <td>4168.0</td>\n",
              "      <td>-3840.0</td>\n",
              "      <td>-1021.0</td>\n",
              "      <td>74.0</td>\n",
              "      <td>160</td>\n",
              "      <td>4</td>\n",
              "      <td>4148</td>\n",
              "      <td>-3568</td>\n",
              "      <td>-875</td>\n",
              "      <td>32</td>\n",
              "      <td>0</td>\n",
              "      <td>32</td>\n",
              "      <td>544</td>\n",
              "      <td>-3584</td>\n",
              "      <td>-896</td>\n",
              "      <td>678</td>\n",
              "      <td>uh</td>\n",
              "      <td>sitting</td>\n",
              "    </tr>\n",
              "    <tr>\n",
              "      <th>...</th>\n",
              "      <td>...</td>\n",
              "      <td>...</td>\n",
              "      <td>...</td>\n",
              "      <td>...</td>\n",
              "      <td>...</td>\n",
              "      <td>...</td>\n",
              "      <td>...</td>\n",
              "      <td>...</td>\n",
              "      <td>...</td>\n",
              "      <td>...</td>\n",
              "      <td>...</td>\n",
              "      <td>...</td>\n",
              "      <td>...</td>\n",
              "      <td>...</td>\n",
              "      <td>...</td>\n",
              "      <td>...</td>\n",
              "      <td>...</td>\n",
              "      <td>...</td>\n",
              "      <td>...</td>\n",
              "      <td>...</td>\n",
              "    </tr>\n",
              "    <tr>\n",
              "      <th>15999</th>\n",
              "      <td>4</td>\n",
              "      <td>1536.0</td>\n",
              "      <td>1024.0</td>\n",
              "      <td>-3072.0</td>\n",
              "      <td>256.0</td>\n",
              "      <td>0.0</td>\n",
              "      <td>0</td>\n",
              "      <td>4</td>\n",
              "      <td>1056</td>\n",
              "      <td>-3056</td>\n",
              "      <td>4</td>\n",
              "      <td>264</td>\n",
              "      <td>1092</td>\n",
              "      <td>0</td>\n",
              "      <td>64</td>\n",
              "      <td>-3072</td>\n",
              "      <td>1024</td>\n",
              "      <td>512</td>\n",
              "      <td>uh</td>\n",
              "      <td>sitting</td>\n",
              "    </tr>\n",
              "    <tr>\n",
              "      <th>16000</th>\n",
              "      <td>2176</td>\n",
              "      <td>256.0</td>\n",
              "      <td>4192.0</td>\n",
              "      <td>-3072.0</td>\n",
              "      <td>264.0</td>\n",
              "      <td>0.0</td>\n",
              "      <td>0</td>\n",
              "      <td>14336</td>\n",
              "      <td>4128</td>\n",
              "      <td>-3072</td>\n",
              "      <td>2</td>\n",
              "      <td>0</td>\n",
              "      <td>1536</td>\n",
              "      <td>13376</td>\n",
              "      <td>4680</td>\n",
              "      <td>-3072</td>\n",
              "      <td>1028</td>\n",
              "      <td>1</td>\n",
              "      <td>uh</td>\n",
              "      <td>sitting</td>\n",
              "    </tr>\n",
              "    <tr>\n",
              "      <th>16001</th>\n",
              "      <td>64</td>\n",
              "      <td>14352.0</td>\n",
              "      <td>1168.0</td>\n",
              "      <td>-3040.0</td>\n",
              "      <td>1024.0</td>\n",
              "      <td>516.0</td>\n",
              "      <td>272</td>\n",
              "      <td>12352</td>\n",
              "      <td>0</td>\n",
              "      <td>-3072</td>\n",
              "      <td>2</td>\n",
              "      <td>32</td>\n",
              "      <td>0</td>\n",
              "      <td>14336</td>\n",
              "      <td>0</td>\n",
              "      <td>-3072</td>\n",
              "      <td>8</td>\n",
              "      <td>384</td>\n",
              "      <td>uh</td>\n",
              "      <td>sitting</td>\n",
              "    </tr>\n",
              "    <tr>\n",
              "      <th>16002</th>\n",
              "      <td>24</td>\n",
              "      <td>13328.0</td>\n",
              "      <td>1168.0</td>\n",
              "      <td>-3072.0</td>\n",
              "      <td>-2048.0</td>\n",
              "      <td>-992.0</td>\n",
              "      <td>0</td>\n",
              "      <td>13316</td>\n",
              "      <td>0</td>\n",
              "      <td>-3072</td>\n",
              "      <td>-992</td>\n",
              "      <td>-1008</td>\n",
              "      <td>0</td>\n",
              "      <td>14336</td>\n",
              "      <td>136</td>\n",
              "      <td>-3056</td>\n",
              "      <td>-878</td>\n",
              "      <td>-1024</td>\n",
              "      <td>uh</td>\n",
              "      <td>sitting</td>\n",
              "    </tr>\n",
              "    <tr>\n",
              "      <th>16003</th>\n",
              "      <td>0</td>\n",
              "      <td>12544.0</td>\n",
              "      <td>0.0</td>\n",
              "      <td>-3072.0</td>\n",
              "      <td>-1024.0</td>\n",
              "      <td>-476.0</td>\n",
              "      <td>136</td>\n",
              "      <td>14336</td>\n",
              "      <td>160</td>\n",
              "      <td>-3056</td>\n",
              "      <td>-992</td>\n",
              "      <td>-480</td>\n",
              "      <td>32</td>\n",
              "      <td>12544</td>\n",
              "      <td>0</td>\n",
              "      <td>-3072</td>\n",
              "      <td>-992</td>\n",
              "      <td>0</td>\n",
              "      <td>uh</td>\n",
              "      <td>sitting</td>\n",
              "    </tr>\n",
              "  </tbody>\n",
              "</table>\n",
              "<p>548 rows × 20 columns</p>\n",
              "</div>"
            ],
            "text/plain": [
              "       knee_ax  knee_ay  knee_az  knee_gx  ...  chest_gy  chest_gz  type  activity\n",
              "15456      512  15704.0    520.0  -3872.0  ...     -2006       512    uh   sitting\n",
              "15457       72  15364.0   2376.0  -3840.0  ...     -3064       640    uh   sitting\n",
              "15458       68     44.0   3984.0  -3584.0  ...     -2045       609    uh   sitting\n",
              "15459        0  15272.0    324.0  -3584.0  ...      -958        64    uh   sitting\n",
              "15460      512  15272.0   4168.0  -3840.0  ...      -896       678    uh   sitting\n",
              "...        ...      ...      ...      ...  ...       ...       ...   ...       ...\n",
              "15999        4   1536.0   1024.0  -3072.0  ...      1024       512    uh   sitting\n",
              "16000     2176    256.0   4192.0  -3072.0  ...      1028         1    uh   sitting\n",
              "16001       64  14352.0   1168.0  -3040.0  ...         8       384    uh   sitting\n",
              "16002       24  13328.0   1168.0  -3072.0  ...      -878     -1024    uh   sitting\n",
              "16003        0  12544.0      0.0  -3072.0  ...      -992         0    uh   sitting\n",
              "\n",
              "[548 rows x 20 columns]"
            ]
          },
          "metadata": {
            "tags": []
          },
          "execution_count": 0
        }
      ]
    },
    {
      "cell_type": "code",
      "metadata": {
        "id": "HvhGPLCtKkJC"
      },
      "source": [
        "x=(df.iloc[:,0:18]).join(df.iloc[:,19])"
      ],
      "execution_count": null,
      "outputs": []
    },
    {
      "cell_type": "code",
      "metadata": {
        "colab": {
          "base_uri": "https://localhost:8080/",
          "height": 367
        },
        "id": "YL6tLFwPKyNu",
        "outputId": "f5fb747a-9dd0-46cb-f15c-d8032695fac2"
      },
      "source": [
        "x.head(10)"
      ],
      "execution_count": null,
      "outputs": [
        {
          "output_type": "execute_result",
          "data": {
            "text/html": [
              "<div>\n",
              "<style scoped>\n",
              "    .dataframe tbody tr th:only-of-type {\n",
              "        vertical-align: middle;\n",
              "    }\n",
              "\n",
              "    .dataframe tbody tr th {\n",
              "        vertical-align: top;\n",
              "    }\n",
              "\n",
              "    .dataframe thead th {\n",
              "        text-align: right;\n",
              "    }\n",
              "</style>\n",
              "<table border=\"1\" class=\"dataframe\">\n",
              "  <thead>\n",
              "    <tr style=\"text-align: right;\">\n",
              "      <th></th>\n",
              "      <th>chest_ax</th>\n",
              "      <th>chest_ay</th>\n",
              "      <th>chest_az</th>\n",
              "      <th>chest_gx</th>\n",
              "      <th>chest_gy</th>\n",
              "      <th>chest_gz</th>\n",
              "      <th>knee_ax</th>\n",
              "      <th>knee_ay</th>\n",
              "      <th>knee_az</th>\n",
              "      <th>knee_gx</th>\n",
              "      <th>knee_gy</th>\n",
              "      <th>knee_gz</th>\n",
              "      <th>back_ax</th>\n",
              "      <th>back_ay</th>\n",
              "      <th>back_az</th>\n",
              "      <th>back_gx</th>\n",
              "      <th>back_gy</th>\n",
              "      <th>back_gz</th>\n",
              "      <th>activity</th>\n",
              "    </tr>\n",
              "  </thead>\n",
              "  <tbody>\n",
              "    <tr>\n",
              "      <th>0</th>\n",
              "      <td>8476</td>\n",
              "      <td>936</td>\n",
              "      <td>252</td>\n",
              "      <td>757</td>\n",
              "      <td>708</td>\n",
              "      <td>231</td>\n",
              "      <td>-124</td>\n",
              "      <td>6672</td>\n",
              "      <td>-3560</td>\n",
              "      <td>-261</td>\n",
              "      <td>-80</td>\n",
              "      <td>100</td>\n",
              "      <td>324</td>\n",
              "      <td>7932</td>\n",
              "      <td>2664</td>\n",
              "      <td>-496</td>\n",
              "      <td>222</td>\n",
              "      <td>46</td>\n",
              "      <td>sitting</td>\n",
              "    </tr>\n",
              "    <tr>\n",
              "      <th>1</th>\n",
              "      <td>8512</td>\n",
              "      <td>1068</td>\n",
              "      <td>788</td>\n",
              "      <td>-437</td>\n",
              "      <td>113</td>\n",
              "      <td>-192</td>\n",
              "      <td>-120</td>\n",
              "      <td>6800</td>\n",
              "      <td>-3644</td>\n",
              "      <td>-246</td>\n",
              "      <td>-54</td>\n",
              "      <td>119</td>\n",
              "      <td>244</td>\n",
              "      <td>7960</td>\n",
              "      <td>2520</td>\n",
              "      <td>-269</td>\n",
              "      <td>23</td>\n",
              "      <td>86</td>\n",
              "      <td>sitting</td>\n",
              "    </tr>\n",
              "    <tr>\n",
              "      <th>2</th>\n",
              "      <td>8288</td>\n",
              "      <td>1320</td>\n",
              "      <td>1132</td>\n",
              "      <td>-1026</td>\n",
              "      <td>41</td>\n",
              "      <td>-350</td>\n",
              "      <td>-88</td>\n",
              "      <td>6816</td>\n",
              "      <td>-3628</td>\n",
              "      <td>-277</td>\n",
              "      <td>-53</td>\n",
              "      <td>114</td>\n",
              "      <td>172</td>\n",
              "      <td>7968</td>\n",
              "      <td>2416</td>\n",
              "      <td>-252</td>\n",
              "      <td>-41</td>\n",
              "      <td>98</td>\n",
              "      <td>sitting</td>\n",
              "    </tr>\n",
              "    <tr>\n",
              "      <th>3</th>\n",
              "      <td>8352</td>\n",
              "      <td>1272</td>\n",
              "      <td>1212</td>\n",
              "      <td>480</td>\n",
              "      <td>809</td>\n",
              "      <td>720</td>\n",
              "      <td>-12</td>\n",
              "      <td>6820</td>\n",
              "      <td>-3648</td>\n",
              "      <td>-276</td>\n",
              "      <td>-77</td>\n",
              "      <td>97</td>\n",
              "      <td>76</td>\n",
              "      <td>7908</td>\n",
              "      <td>2720</td>\n",
              "      <td>-330</td>\n",
              "      <td>-119</td>\n",
              "      <td>120</td>\n",
              "      <td>sitting</td>\n",
              "    </tr>\n",
              "    <tr>\n",
              "      <th>4</th>\n",
              "      <td>8260</td>\n",
              "      <td>1268</td>\n",
              "      <td>1240</td>\n",
              "      <td>-476</td>\n",
              "      <td>72</td>\n",
              "      <td>-59</td>\n",
              "      <td>-108</td>\n",
              "      <td>6752</td>\n",
              "      <td>-3692</td>\n",
              "      <td>-255</td>\n",
              "      <td>-51</td>\n",
              "      <td>138</td>\n",
              "      <td>96</td>\n",
              "      <td>7948</td>\n",
              "      <td>2400</td>\n",
              "      <td>-335</td>\n",
              "      <td>-21</td>\n",
              "      <td>105</td>\n",
              "      <td>sitting</td>\n",
              "    </tr>\n",
              "    <tr>\n",
              "      <th>5</th>\n",
              "      <td>8484</td>\n",
              "      <td>1384</td>\n",
              "      <td>1404</td>\n",
              "      <td>-904</td>\n",
              "      <td>363</td>\n",
              "      <td>-80</td>\n",
              "      <td>-96</td>\n",
              "      <td>6748</td>\n",
              "      <td>-3552</td>\n",
              "      <td>-307</td>\n",
              "      <td>-52</td>\n",
              "      <td>110</td>\n",
              "      <td>16</td>\n",
              "      <td>7940</td>\n",
              "      <td>2536</td>\n",
              "      <td>-322</td>\n",
              "      <td>18</td>\n",
              "      <td>60</td>\n",
              "      <td>sitting</td>\n",
              "    </tr>\n",
              "    <tr>\n",
              "      <th>6</th>\n",
              "      <td>8320</td>\n",
              "      <td>1432</td>\n",
              "      <td>1368</td>\n",
              "      <td>-5</td>\n",
              "      <td>-211</td>\n",
              "      <td>142</td>\n",
              "      <td>-140</td>\n",
              "      <td>6752</td>\n",
              "      <td>-3548</td>\n",
              "      <td>-243</td>\n",
              "      <td>-95</td>\n",
              "      <td>86</td>\n",
              "      <td>112</td>\n",
              "      <td>7896</td>\n",
              "      <td>2576</td>\n",
              "      <td>-342</td>\n",
              "      <td>56</td>\n",
              "      <td>95</td>\n",
              "      <td>sitting</td>\n",
              "    </tr>\n",
              "    <tr>\n",
              "      <th>7</th>\n",
              "      <td>8376</td>\n",
              "      <td>1396</td>\n",
              "      <td>1340</td>\n",
              "      <td>-592</td>\n",
              "      <td>-212</td>\n",
              "      <td>-98</td>\n",
              "      <td>-64</td>\n",
              "      <td>6752</td>\n",
              "      <td>-3688</td>\n",
              "      <td>-268</td>\n",
              "      <td>-72</td>\n",
              "      <td>109</td>\n",
              "      <td>-8</td>\n",
              "      <td>7936</td>\n",
              "      <td>2552</td>\n",
              "      <td>-695</td>\n",
              "      <td>833</td>\n",
              "      <td>147</td>\n",
              "      <td>sitting</td>\n",
              "    </tr>\n",
              "    <tr>\n",
              "      <th>8</th>\n",
              "      <td>8424</td>\n",
              "      <td>1508</td>\n",
              "      <td>1324</td>\n",
              "      <td>-145</td>\n",
              "      <td>136</td>\n",
              "      <td>297</td>\n",
              "      <td>16</td>\n",
              "      <td>6752</td>\n",
              "      <td>-3680</td>\n",
              "      <td>-280</td>\n",
              "      <td>-97</td>\n",
              "      <td>98</td>\n",
              "      <td>160</td>\n",
              "      <td>7948</td>\n",
              "      <td>2440</td>\n",
              "      <td>-402</td>\n",
              "      <td>-5</td>\n",
              "      <td>137</td>\n",
              "      <td>sitting</td>\n",
              "    </tr>\n",
              "    <tr>\n",
              "      <th>9</th>\n",
              "      <td>8336</td>\n",
              "      <td>1372</td>\n",
              "      <td>1312</td>\n",
              "      <td>2910</td>\n",
              "      <td>1546</td>\n",
              "      <td>1323</td>\n",
              "      <td>-52</td>\n",
              "      <td>6724</td>\n",
              "      <td>-3672</td>\n",
              "      <td>-243</td>\n",
              "      <td>-54</td>\n",
              "      <td>119</td>\n",
              "      <td>204</td>\n",
              "      <td>7888</td>\n",
              "      <td>2444</td>\n",
              "      <td>-402</td>\n",
              "      <td>32</td>\n",
              "      <td>36</td>\n",
              "      <td>sitting</td>\n",
              "    </tr>\n",
              "  </tbody>\n",
              "</table>\n",
              "</div>"
            ],
            "text/plain": [
              "   chest_ax  chest_ay  chest_az  chest_gx  ...  back_gx  back_gy  back_gz  activity\n",
              "0      8476       936       252       757  ...     -496      222       46   sitting\n",
              "1      8512      1068       788      -437  ...     -269       23       86   sitting\n",
              "2      8288      1320      1132     -1026  ...     -252      -41       98   sitting\n",
              "3      8352      1272      1212       480  ...     -330     -119      120   sitting\n",
              "4      8260      1268      1240      -476  ...     -335      -21      105   sitting\n",
              "5      8484      1384      1404      -904  ...     -322       18       60   sitting\n",
              "6      8320      1432      1368        -5  ...     -342       56       95   sitting\n",
              "7      8376      1396      1340      -592  ...     -695      833      147   sitting\n",
              "8      8424      1508      1324      -145  ...     -402       -5      137   sitting\n",
              "9      8336      1372      1312      2910  ...     -402       32       36   sitting\n",
              "\n",
              "[10 rows x 19 columns]"
            ]
          },
          "metadata": {
            "tags": []
          },
          "execution_count": 7
        }
      ]
    },
    {
      "cell_type": "code",
      "metadata": {
        "colab": {
          "base_uri": "https://localhost:8080/"
        },
        "id": "rd5D1kvqKZ3-",
        "outputId": "c71e74ed-dabc-41c7-cc4a-dc5cb3bc8c79"
      },
      "source": [
        "y=pd.DataFrame(df.iloc[:,18])\n",
        "y.value_counts()"
      ],
      "execution_count": null,
      "outputs": [
        {
          "output_type": "execute_result",
          "data": {
            "text/plain": [
              "type\n",
              "uh      19116\n",
              "h       18303\n",
              "dtype: int64"
            ]
          },
          "metadata": {
            "tags": []
          },
          "execution_count": 8
        }
      ]
    },
    {
      "cell_type": "code",
      "metadata": {
        "colab": {
          "base_uri": "https://localhost:8080/"
        },
        "id": "SHhc9yeFghUt",
        "outputId": "7d10cc0e-1644-4c5a-eca8-e304e5ba1ccc"
      },
      "source": [
        "y=y.replace(['uh'],1)\n",
        "y=y.replace(['h'],0)\n",
        "y.value_counts()"
      ],
      "execution_count": null,
      "outputs": [
        {
          "output_type": "execute_result",
          "data": {
            "text/plain": [
              "type\n",
              "1       19116\n",
              "0       18303\n",
              "dtype: int64"
            ]
          },
          "metadata": {
            "tags": []
          },
          "execution_count": 9
        }
      ]
    },
    {
      "cell_type": "code",
      "metadata": {
        "id": "e0gi8quEKAk7"
      },
      "source": [
        "xtrain, xtest, ytrain, ytest = train_test_split( \n",
        "        x, y, test_size = 0.25, random_state = 42)"
      ],
      "execution_count": null,
      "outputs": []
    },
    {
      "cell_type": "code",
      "metadata": {
        "id": "yr1YKgWHcRl5"
      },
      "source": [
        "xtrain.reset_index(drop=True,inplace=True)\n",
        "xtest.reset_index(drop=True,inplace=True)\n",
        "ytest.reset_index(drop=True,inplace=True)\n",
        "ytrain.reset_index(drop=True,inplace=True)"
      ],
      "execution_count": null,
      "outputs": []
    },
    {
      "cell_type": "code",
      "metadata": {
        "colab": {
          "base_uri": "https://localhost:8080/",
          "height": 217
        },
        "id": "Q92e9p60cSKJ",
        "outputId": "75a2ff9e-7854-4972-8599-fc1b26ab315c"
      },
      "source": [
        "xtrain.head()"
      ],
      "execution_count": null,
      "outputs": [
        {
          "output_type": "execute_result",
          "data": {
            "text/html": [
              "<div>\n",
              "<style scoped>\n",
              "    .dataframe tbody tr th:only-of-type {\n",
              "        vertical-align: middle;\n",
              "    }\n",
              "\n",
              "    .dataframe tbody tr th {\n",
              "        vertical-align: top;\n",
              "    }\n",
              "\n",
              "    .dataframe thead th {\n",
              "        text-align: right;\n",
              "    }\n",
              "</style>\n",
              "<table border=\"1\" class=\"dataframe\">\n",
              "  <thead>\n",
              "    <tr style=\"text-align: right;\">\n",
              "      <th></th>\n",
              "      <th>chest_ax</th>\n",
              "      <th>chest_ay</th>\n",
              "      <th>chest_az</th>\n",
              "      <th>chest_gx</th>\n",
              "      <th>chest_gy</th>\n",
              "      <th>chest_gz</th>\n",
              "      <th>knee_ax</th>\n",
              "      <th>knee_ay</th>\n",
              "      <th>knee_az</th>\n",
              "      <th>knee_gx</th>\n",
              "      <th>knee_gy</th>\n",
              "      <th>knee_gz</th>\n",
              "      <th>back_ax</th>\n",
              "      <th>back_ay</th>\n",
              "      <th>back_az</th>\n",
              "      <th>back_gx</th>\n",
              "      <th>back_gy</th>\n",
              "      <th>back_gz</th>\n",
              "      <th>activity</th>\n",
              "    </tr>\n",
              "  </thead>\n",
              "  <tbody>\n",
              "    <tr>\n",
              "      <th>0</th>\n",
              "      <td>160</td>\n",
              "      <td>5932</td>\n",
              "      <td>-4356</td>\n",
              "      <td>1868</td>\n",
              "      <td>634</td>\n",
              "      <td>1054</td>\n",
              "      <td>-4432</td>\n",
              "      <td>-6680</td>\n",
              "      <td>48</td>\n",
              "      <td>-320</td>\n",
              "      <td>-197</td>\n",
              "      <td>94</td>\n",
              "      <td>5936</td>\n",
              "      <td>4816</td>\n",
              "      <td>4480</td>\n",
              "      <td>-344</td>\n",
              "      <td>-126</td>\n",
              "      <td>161</td>\n",
              "      <td>sleeping</td>\n",
              "    </tr>\n",
              "    <tr>\n",
              "      <th>1</th>\n",
              "      <td>2600</td>\n",
              "      <td>7764</td>\n",
              "      <td>980</td>\n",
              "      <td>-404</td>\n",
              "      <td>80</td>\n",
              "      <td>14</td>\n",
              "      <td>3592</td>\n",
              "      <td>7388</td>\n",
              "      <td>476</td>\n",
              "      <td>-335</td>\n",
              "      <td>-37</td>\n",
              "      <td>125</td>\n",
              "      <td>-720</td>\n",
              "      <td>8004</td>\n",
              "      <td>-84</td>\n",
              "      <td>-441</td>\n",
              "      <td>78</td>\n",
              "      <td>124</td>\n",
              "      <td>sleeping</td>\n",
              "    </tr>\n",
              "    <tr>\n",
              "      <th>2</th>\n",
              "      <td>7740</td>\n",
              "      <td>-252</td>\n",
              "      <td>4344</td>\n",
              "      <td>-412</td>\n",
              "      <td>-165</td>\n",
              "      <td>97</td>\n",
              "      <td>8468</td>\n",
              "      <td>-700</td>\n",
              "      <td>656</td>\n",
              "      <td>-266</td>\n",
              "      <td>-29</td>\n",
              "      <td>47</td>\n",
              "      <td>8080</td>\n",
              "      <td>292</td>\n",
              "      <td>3784</td>\n",
              "      <td>-368</td>\n",
              "      <td>139</td>\n",
              "      <td>104</td>\n",
              "      <td>sitting</td>\n",
              "    </tr>\n",
              "    <tr>\n",
              "      <th>3</th>\n",
              "      <td>5828</td>\n",
              "      <td>-5928</td>\n",
              "      <td>-688</td>\n",
              "      <td>-148</td>\n",
              "      <td>-291</td>\n",
              "      <td>218</td>\n",
              "      <td>2692</td>\n",
              "      <td>6112</td>\n",
              "      <td>5848</td>\n",
              "      <td>-315</td>\n",
              "      <td>-12</td>\n",
              "      <td>107</td>\n",
              "      <td>-2588</td>\n",
              "      <td>6868</td>\n",
              "      <td>-2364</td>\n",
              "      <td>-136</td>\n",
              "      <td>-24</td>\n",
              "      <td>160</td>\n",
              "      <td>sleeping</td>\n",
              "    </tr>\n",
              "    <tr>\n",
              "      <th>4</th>\n",
              "      <td>1608</td>\n",
              "      <td>-944</td>\n",
              "      <td>9376</td>\n",
              "      <td>-275</td>\n",
              "      <td>-126</td>\n",
              "      <td>492</td>\n",
              "      <td>-6176</td>\n",
              "      <td>-600</td>\n",
              "      <td>5928</td>\n",
              "      <td>34</td>\n",
              "      <td>-149</td>\n",
              "      <td>398</td>\n",
              "      <td>7148</td>\n",
              "      <td>1272</td>\n",
              "      <td>-3388</td>\n",
              "      <td>-259</td>\n",
              "      <td>3</td>\n",
              "      <td>123</td>\n",
              "      <td>standing</td>\n",
              "    </tr>\n",
              "  </tbody>\n",
              "</table>\n",
              "</div>"
            ],
            "text/plain": [
              "   chest_ax  chest_ay  chest_az  chest_gx  ...  back_gx  back_gy  back_gz  activity\n",
              "0       160      5932     -4356      1868  ...     -344     -126      161  sleeping\n",
              "1      2600      7764       980      -404  ...     -441       78      124  sleeping\n",
              "2      7740      -252      4344      -412  ...     -368      139      104   sitting\n",
              "3      5828     -5928      -688      -148  ...     -136      -24      160  sleeping\n",
              "4      1608      -944      9376      -275  ...     -259        3      123  standing\n",
              "\n",
              "[5 rows x 19 columns]"
            ]
          },
          "metadata": {
            "tags": []
          },
          "execution_count": 12
        }
      ]
    },
    {
      "cell_type": "code",
      "metadata": {
        "colab": {
          "base_uri": "https://localhost:8080/"
        },
        "id": "yYeKNtGDKf02",
        "outputId": "e40c99df-ea6d-48c2-ae3b-8ae25f65600d"
      },
      "source": [
        "le = LabelEncoder() \n",
        "le.fit(xtrain['activity']) \n",
        "xtrain['activity']=le.transform(xtrain['activity'])\n",
        "xtest['activity']=le.transform(xtest['activity'])"
      ],
      "execution_count": null,
      "outputs": [
        {
          "output_type": "stream",
          "text": [
            "/usr/local/lib/python3.6/dist-packages/ipykernel_launcher.py:3: SettingWithCopyWarning: \n",
            "A value is trying to be set on a copy of a slice from a DataFrame.\n",
            "Try using .loc[row_indexer,col_indexer] = value instead\n",
            "\n",
            "See the caveats in the documentation: https://pandas.pydata.org/pandas-docs/stable/user_guide/indexing.html#returning-a-view-versus-a-copy\n",
            "  This is separate from the ipykernel package so we can avoid doing imports until\n",
            "/usr/local/lib/python3.6/dist-packages/ipykernel_launcher.py:4: SettingWithCopyWarning: \n",
            "A value is trying to be set on a copy of a slice from a DataFrame.\n",
            "Try using .loc[row_indexer,col_indexer] = value instead\n",
            "\n",
            "See the caveats in the documentation: https://pandas.pydata.org/pandas-docs/stable/user_guide/indexing.html#returning-a-view-versus-a-copy\n",
            "  after removing the cwd from sys.path.\n"
          ],
          "name": "stderr"
        }
      ]
    },
    {
      "cell_type": "code",
      "metadata": {
        "colab": {
          "base_uri": "https://localhost:8080/",
          "height": 367
        },
        "id": "W3673jLKPPQF",
        "outputId": "bf63fca0-e736-404d-960b-1d46384970f3"
      },
      "source": [
        "xtrain.head(10)"
      ],
      "execution_count": null,
      "outputs": [
        {
          "output_type": "execute_result",
          "data": {
            "text/html": [
              "<div>\n",
              "<style scoped>\n",
              "    .dataframe tbody tr th:only-of-type {\n",
              "        vertical-align: middle;\n",
              "    }\n",
              "\n",
              "    .dataframe tbody tr th {\n",
              "        vertical-align: top;\n",
              "    }\n",
              "\n",
              "    .dataframe thead th {\n",
              "        text-align: right;\n",
              "    }\n",
              "</style>\n",
              "<table border=\"1\" class=\"dataframe\">\n",
              "  <thead>\n",
              "    <tr style=\"text-align: right;\">\n",
              "      <th></th>\n",
              "      <th>chest_ax</th>\n",
              "      <th>chest_ay</th>\n",
              "      <th>chest_az</th>\n",
              "      <th>chest_gx</th>\n",
              "      <th>chest_gy</th>\n",
              "      <th>chest_gz</th>\n",
              "      <th>knee_ax</th>\n",
              "      <th>knee_ay</th>\n",
              "      <th>knee_az</th>\n",
              "      <th>knee_gx</th>\n",
              "      <th>knee_gy</th>\n",
              "      <th>knee_gz</th>\n",
              "      <th>back_ax</th>\n",
              "      <th>back_ay</th>\n",
              "      <th>back_az</th>\n",
              "      <th>back_gx</th>\n",
              "      <th>back_gy</th>\n",
              "      <th>back_gz</th>\n",
              "      <th>activity</th>\n",
              "    </tr>\n",
              "  </thead>\n",
              "  <tbody>\n",
              "    <tr>\n",
              "      <th>0</th>\n",
              "      <td>160</td>\n",
              "      <td>5932</td>\n",
              "      <td>-4356</td>\n",
              "      <td>1868</td>\n",
              "      <td>634</td>\n",
              "      <td>1054</td>\n",
              "      <td>-4432</td>\n",
              "      <td>-6680</td>\n",
              "      <td>48</td>\n",
              "      <td>-320</td>\n",
              "      <td>-197</td>\n",
              "      <td>94</td>\n",
              "      <td>5936</td>\n",
              "      <td>4816</td>\n",
              "      <td>4480</td>\n",
              "      <td>-344</td>\n",
              "      <td>-126</td>\n",
              "      <td>161</td>\n",
              "      <td>1</td>\n",
              "    </tr>\n",
              "    <tr>\n",
              "      <th>1</th>\n",
              "      <td>2600</td>\n",
              "      <td>7764</td>\n",
              "      <td>980</td>\n",
              "      <td>-404</td>\n",
              "      <td>80</td>\n",
              "      <td>14</td>\n",
              "      <td>3592</td>\n",
              "      <td>7388</td>\n",
              "      <td>476</td>\n",
              "      <td>-335</td>\n",
              "      <td>-37</td>\n",
              "      <td>125</td>\n",
              "      <td>-720</td>\n",
              "      <td>8004</td>\n",
              "      <td>-84</td>\n",
              "      <td>-441</td>\n",
              "      <td>78</td>\n",
              "      <td>124</td>\n",
              "      <td>1</td>\n",
              "    </tr>\n",
              "    <tr>\n",
              "      <th>2</th>\n",
              "      <td>7740</td>\n",
              "      <td>-252</td>\n",
              "      <td>4344</td>\n",
              "      <td>-412</td>\n",
              "      <td>-165</td>\n",
              "      <td>97</td>\n",
              "      <td>8468</td>\n",
              "      <td>-700</td>\n",
              "      <td>656</td>\n",
              "      <td>-266</td>\n",
              "      <td>-29</td>\n",
              "      <td>47</td>\n",
              "      <td>8080</td>\n",
              "      <td>292</td>\n",
              "      <td>3784</td>\n",
              "      <td>-368</td>\n",
              "      <td>139</td>\n",
              "      <td>104</td>\n",
              "      <td>0</td>\n",
              "    </tr>\n",
              "    <tr>\n",
              "      <th>3</th>\n",
              "      <td>5828</td>\n",
              "      <td>-5928</td>\n",
              "      <td>-688</td>\n",
              "      <td>-148</td>\n",
              "      <td>-291</td>\n",
              "      <td>218</td>\n",
              "      <td>2692</td>\n",
              "      <td>6112</td>\n",
              "      <td>5848</td>\n",
              "      <td>-315</td>\n",
              "      <td>-12</td>\n",
              "      <td>107</td>\n",
              "      <td>-2588</td>\n",
              "      <td>6868</td>\n",
              "      <td>-2364</td>\n",
              "      <td>-136</td>\n",
              "      <td>-24</td>\n",
              "      <td>160</td>\n",
              "      <td>1</td>\n",
              "    </tr>\n",
              "    <tr>\n",
              "      <th>4</th>\n",
              "      <td>1608</td>\n",
              "      <td>-944</td>\n",
              "      <td>9376</td>\n",
              "      <td>-275</td>\n",
              "      <td>-126</td>\n",
              "      <td>492</td>\n",
              "      <td>-6176</td>\n",
              "      <td>-600</td>\n",
              "      <td>5928</td>\n",
              "      <td>34</td>\n",
              "      <td>-149</td>\n",
              "      <td>398</td>\n",
              "      <td>7148</td>\n",
              "      <td>1272</td>\n",
              "      <td>-3388</td>\n",
              "      <td>-259</td>\n",
              "      <td>3</td>\n",
              "      <td>123</td>\n",
              "      <td>2</td>\n",
              "    </tr>\n",
              "    <tr>\n",
              "      <th>5</th>\n",
              "      <td>704</td>\n",
              "      <td>-660</td>\n",
              "      <td>9336</td>\n",
              "      <td>-395</td>\n",
              "      <td>143</td>\n",
              "      <td>435</td>\n",
              "      <td>-7156</td>\n",
              "      <td>248</td>\n",
              "      <td>4432</td>\n",
              "      <td>-388</td>\n",
              "      <td>-31</td>\n",
              "      <td>234</td>\n",
              "      <td>7168</td>\n",
              "      <td>1280</td>\n",
              "      <td>-3580</td>\n",
              "      <td>-271</td>\n",
              "      <td>-32</td>\n",
              "      <td>83</td>\n",
              "      <td>2</td>\n",
              "    </tr>\n",
              "    <tr>\n",
              "      <th>6</th>\n",
              "      <td>5592</td>\n",
              "      <td>-5948</td>\n",
              "      <td>-736</td>\n",
              "      <td>-424</td>\n",
              "      <td>-78</td>\n",
              "      <td>-61</td>\n",
              "      <td>2584</td>\n",
              "      <td>6164</td>\n",
              "      <td>5872</td>\n",
              "      <td>-255</td>\n",
              "      <td>-34</td>\n",
              "      <td>111</td>\n",
              "      <td>-2792</td>\n",
              "      <td>6668</td>\n",
              "      <td>-2336</td>\n",
              "      <td>-320</td>\n",
              "      <td>-33</td>\n",
              "      <td>109</td>\n",
              "      <td>1</td>\n",
              "    </tr>\n",
              "    <tr>\n",
              "      <th>7</th>\n",
              "      <td>4604</td>\n",
              "      <td>1064</td>\n",
              "      <td>8064</td>\n",
              "      <td>-344</td>\n",
              "      <td>-156</td>\n",
              "      <td>76</td>\n",
              "      <td>-7616</td>\n",
              "      <td>-1508</td>\n",
              "      <td>2988</td>\n",
              "      <td>-279</td>\n",
              "      <td>-48</td>\n",
              "      <td>128</td>\n",
              "      <td>7596</td>\n",
              "      <td>676</td>\n",
              "      <td>-2956</td>\n",
              "      <td>-412</td>\n",
              "      <td>4</td>\n",
              "      <td>149</td>\n",
              "      <td>0</td>\n",
              "    </tr>\n",
              "    <tr>\n",
              "      <th>8</th>\n",
              "      <td>784</td>\n",
              "      <td>7460</td>\n",
              "      <td>-2268</td>\n",
              "      <td>71</td>\n",
              "      <td>-207</td>\n",
              "      <td>96</td>\n",
              "      <td>-3988</td>\n",
              "      <td>-6488</td>\n",
              "      <td>-2116</td>\n",
              "      <td>-167</td>\n",
              "      <td>5</td>\n",
              "      <td>91</td>\n",
              "      <td>5044</td>\n",
              "      <td>6200</td>\n",
              "      <td>3444</td>\n",
              "      <td>-341</td>\n",
              "      <td>-16</td>\n",
              "      <td>189</td>\n",
              "      <td>1</td>\n",
              "    </tr>\n",
              "    <tr>\n",
              "      <th>9</th>\n",
              "      <td>756</td>\n",
              "      <td>7456</td>\n",
              "      <td>-2260</td>\n",
              "      <td>-337</td>\n",
              "      <td>-454</td>\n",
              "      <td>-196</td>\n",
              "      <td>-3948</td>\n",
              "      <td>-6496</td>\n",
              "      <td>-1980</td>\n",
              "      <td>-543</td>\n",
              "      <td>-62</td>\n",
              "      <td>331</td>\n",
              "      <td>5056</td>\n",
              "      <td>6076</td>\n",
              "      <td>3516</td>\n",
              "      <td>-338</td>\n",
              "      <td>112</td>\n",
              "      <td>104</td>\n",
              "      <td>1</td>\n",
              "    </tr>\n",
              "  </tbody>\n",
              "</table>\n",
              "</div>"
            ],
            "text/plain": [
              "   chest_ax  chest_ay  chest_az  chest_gx  ...  back_gx  back_gy  back_gz  activity\n",
              "0       160      5932     -4356      1868  ...     -344     -126      161         1\n",
              "1      2600      7764       980      -404  ...     -441       78      124         1\n",
              "2      7740      -252      4344      -412  ...     -368      139      104         0\n",
              "3      5828     -5928      -688      -148  ...     -136      -24      160         1\n",
              "4      1608      -944      9376      -275  ...     -259        3      123         2\n",
              "5       704      -660      9336      -395  ...     -271      -32       83         2\n",
              "6      5592     -5948      -736      -424  ...     -320      -33      109         1\n",
              "7      4604      1064      8064      -344  ...     -412        4      149         0\n",
              "8       784      7460     -2268        71  ...     -341      -16      189         1\n",
              "9       756      7456     -2260      -337  ...     -338      112      104         1\n",
              "\n",
              "[10 rows x 19 columns]"
            ]
          },
          "metadata": {
            "tags": []
          },
          "execution_count": 14
        }
      ]
    },
    {
      "cell_type": "code",
      "metadata": {
        "colab": {
          "base_uri": "https://localhost:8080/"
        },
        "id": "CbT4IAyD95qF",
        "outputId": "211db091-1d0f-4436-b46f-1efce0fc8b08"
      },
      "source": [
        "enc=OneHotEncoder()\n",
        "enc.fit(xtrain.activity.values.reshape(-1,1))"
      ],
      "execution_count": null,
      "outputs": [
        {
          "output_type": "execute_result",
          "data": {
            "text/plain": [
              "OneHotEncoder(categories='auto', drop=None, dtype=<class 'numpy.float64'>,\n",
              "              handle_unknown='error', sparse=True)"
            ]
          },
          "metadata": {
            "tags": []
          },
          "execution_count": 15
        }
      ]
    },
    {
      "cell_type": "code",
      "metadata": {
        "id": "08aspwTQSYBd"
      },
      "source": [
        "enc_trdf=pd.DataFrame(enc.transform(xtrain.activity.values.reshape(-1,1)).toarray())"
      ],
      "execution_count": null,
      "outputs": []
    },
    {
      "cell_type": "code",
      "metadata": {
        "id": "G9u0k5iWUUXR"
      },
      "source": [
        "xtrain=xtrain.iloc[:,0:18].join(enc_trdf)"
      ],
      "execution_count": null,
      "outputs": []
    },
    {
      "cell_type": "code",
      "metadata": {
        "colab": {
          "base_uri": "https://localhost:8080/",
          "height": 367
        },
        "id": "n-qoe3-aUhB-",
        "outputId": "0a98e9ad-707c-4152-e997-4dc98e0ce45c"
      },
      "source": [
        "xtrain.head(10)"
      ],
      "execution_count": null,
      "outputs": [
        {
          "output_type": "execute_result",
          "data": {
            "text/html": [
              "<div>\n",
              "<style scoped>\n",
              "    .dataframe tbody tr th:only-of-type {\n",
              "        vertical-align: middle;\n",
              "    }\n",
              "\n",
              "    .dataframe tbody tr th {\n",
              "        vertical-align: top;\n",
              "    }\n",
              "\n",
              "    .dataframe thead th {\n",
              "        text-align: right;\n",
              "    }\n",
              "</style>\n",
              "<table border=\"1\" class=\"dataframe\">\n",
              "  <thead>\n",
              "    <tr style=\"text-align: right;\">\n",
              "      <th></th>\n",
              "      <th>chest_ax</th>\n",
              "      <th>chest_ay</th>\n",
              "      <th>chest_az</th>\n",
              "      <th>chest_gx</th>\n",
              "      <th>chest_gy</th>\n",
              "      <th>chest_gz</th>\n",
              "      <th>knee_ax</th>\n",
              "      <th>knee_ay</th>\n",
              "      <th>knee_az</th>\n",
              "      <th>knee_gx</th>\n",
              "      <th>knee_gy</th>\n",
              "      <th>knee_gz</th>\n",
              "      <th>back_ax</th>\n",
              "      <th>back_ay</th>\n",
              "      <th>back_az</th>\n",
              "      <th>back_gx</th>\n",
              "      <th>back_gy</th>\n",
              "      <th>back_gz</th>\n",
              "      <th>0</th>\n",
              "      <th>1</th>\n",
              "      <th>2</th>\n",
              "    </tr>\n",
              "  </thead>\n",
              "  <tbody>\n",
              "    <tr>\n",
              "      <th>0</th>\n",
              "      <td>160</td>\n",
              "      <td>5932</td>\n",
              "      <td>-4356</td>\n",
              "      <td>1868</td>\n",
              "      <td>634</td>\n",
              "      <td>1054</td>\n",
              "      <td>-4432</td>\n",
              "      <td>-6680</td>\n",
              "      <td>48</td>\n",
              "      <td>-320</td>\n",
              "      <td>-197</td>\n",
              "      <td>94</td>\n",
              "      <td>5936</td>\n",
              "      <td>4816</td>\n",
              "      <td>4480</td>\n",
              "      <td>-344</td>\n",
              "      <td>-126</td>\n",
              "      <td>161</td>\n",
              "      <td>0.0</td>\n",
              "      <td>1.0</td>\n",
              "      <td>0.0</td>\n",
              "    </tr>\n",
              "    <tr>\n",
              "      <th>1</th>\n",
              "      <td>2600</td>\n",
              "      <td>7764</td>\n",
              "      <td>980</td>\n",
              "      <td>-404</td>\n",
              "      <td>80</td>\n",
              "      <td>14</td>\n",
              "      <td>3592</td>\n",
              "      <td>7388</td>\n",
              "      <td>476</td>\n",
              "      <td>-335</td>\n",
              "      <td>-37</td>\n",
              "      <td>125</td>\n",
              "      <td>-720</td>\n",
              "      <td>8004</td>\n",
              "      <td>-84</td>\n",
              "      <td>-441</td>\n",
              "      <td>78</td>\n",
              "      <td>124</td>\n",
              "      <td>0.0</td>\n",
              "      <td>1.0</td>\n",
              "      <td>0.0</td>\n",
              "    </tr>\n",
              "    <tr>\n",
              "      <th>2</th>\n",
              "      <td>7740</td>\n",
              "      <td>-252</td>\n",
              "      <td>4344</td>\n",
              "      <td>-412</td>\n",
              "      <td>-165</td>\n",
              "      <td>97</td>\n",
              "      <td>8468</td>\n",
              "      <td>-700</td>\n",
              "      <td>656</td>\n",
              "      <td>-266</td>\n",
              "      <td>-29</td>\n",
              "      <td>47</td>\n",
              "      <td>8080</td>\n",
              "      <td>292</td>\n",
              "      <td>3784</td>\n",
              "      <td>-368</td>\n",
              "      <td>139</td>\n",
              "      <td>104</td>\n",
              "      <td>1.0</td>\n",
              "      <td>0.0</td>\n",
              "      <td>0.0</td>\n",
              "    </tr>\n",
              "    <tr>\n",
              "      <th>3</th>\n",
              "      <td>5828</td>\n",
              "      <td>-5928</td>\n",
              "      <td>-688</td>\n",
              "      <td>-148</td>\n",
              "      <td>-291</td>\n",
              "      <td>218</td>\n",
              "      <td>2692</td>\n",
              "      <td>6112</td>\n",
              "      <td>5848</td>\n",
              "      <td>-315</td>\n",
              "      <td>-12</td>\n",
              "      <td>107</td>\n",
              "      <td>-2588</td>\n",
              "      <td>6868</td>\n",
              "      <td>-2364</td>\n",
              "      <td>-136</td>\n",
              "      <td>-24</td>\n",
              "      <td>160</td>\n",
              "      <td>0.0</td>\n",
              "      <td>1.0</td>\n",
              "      <td>0.0</td>\n",
              "    </tr>\n",
              "    <tr>\n",
              "      <th>4</th>\n",
              "      <td>1608</td>\n",
              "      <td>-944</td>\n",
              "      <td>9376</td>\n",
              "      <td>-275</td>\n",
              "      <td>-126</td>\n",
              "      <td>492</td>\n",
              "      <td>-6176</td>\n",
              "      <td>-600</td>\n",
              "      <td>5928</td>\n",
              "      <td>34</td>\n",
              "      <td>-149</td>\n",
              "      <td>398</td>\n",
              "      <td>7148</td>\n",
              "      <td>1272</td>\n",
              "      <td>-3388</td>\n",
              "      <td>-259</td>\n",
              "      <td>3</td>\n",
              "      <td>123</td>\n",
              "      <td>0.0</td>\n",
              "      <td>0.0</td>\n",
              "      <td>1.0</td>\n",
              "    </tr>\n",
              "    <tr>\n",
              "      <th>5</th>\n",
              "      <td>704</td>\n",
              "      <td>-660</td>\n",
              "      <td>9336</td>\n",
              "      <td>-395</td>\n",
              "      <td>143</td>\n",
              "      <td>435</td>\n",
              "      <td>-7156</td>\n",
              "      <td>248</td>\n",
              "      <td>4432</td>\n",
              "      <td>-388</td>\n",
              "      <td>-31</td>\n",
              "      <td>234</td>\n",
              "      <td>7168</td>\n",
              "      <td>1280</td>\n",
              "      <td>-3580</td>\n",
              "      <td>-271</td>\n",
              "      <td>-32</td>\n",
              "      <td>83</td>\n",
              "      <td>0.0</td>\n",
              "      <td>0.0</td>\n",
              "      <td>1.0</td>\n",
              "    </tr>\n",
              "    <tr>\n",
              "      <th>6</th>\n",
              "      <td>5592</td>\n",
              "      <td>-5948</td>\n",
              "      <td>-736</td>\n",
              "      <td>-424</td>\n",
              "      <td>-78</td>\n",
              "      <td>-61</td>\n",
              "      <td>2584</td>\n",
              "      <td>6164</td>\n",
              "      <td>5872</td>\n",
              "      <td>-255</td>\n",
              "      <td>-34</td>\n",
              "      <td>111</td>\n",
              "      <td>-2792</td>\n",
              "      <td>6668</td>\n",
              "      <td>-2336</td>\n",
              "      <td>-320</td>\n",
              "      <td>-33</td>\n",
              "      <td>109</td>\n",
              "      <td>0.0</td>\n",
              "      <td>1.0</td>\n",
              "      <td>0.0</td>\n",
              "    </tr>\n",
              "    <tr>\n",
              "      <th>7</th>\n",
              "      <td>4604</td>\n",
              "      <td>1064</td>\n",
              "      <td>8064</td>\n",
              "      <td>-344</td>\n",
              "      <td>-156</td>\n",
              "      <td>76</td>\n",
              "      <td>-7616</td>\n",
              "      <td>-1508</td>\n",
              "      <td>2988</td>\n",
              "      <td>-279</td>\n",
              "      <td>-48</td>\n",
              "      <td>128</td>\n",
              "      <td>7596</td>\n",
              "      <td>676</td>\n",
              "      <td>-2956</td>\n",
              "      <td>-412</td>\n",
              "      <td>4</td>\n",
              "      <td>149</td>\n",
              "      <td>1.0</td>\n",
              "      <td>0.0</td>\n",
              "      <td>0.0</td>\n",
              "    </tr>\n",
              "    <tr>\n",
              "      <th>8</th>\n",
              "      <td>784</td>\n",
              "      <td>7460</td>\n",
              "      <td>-2268</td>\n",
              "      <td>71</td>\n",
              "      <td>-207</td>\n",
              "      <td>96</td>\n",
              "      <td>-3988</td>\n",
              "      <td>-6488</td>\n",
              "      <td>-2116</td>\n",
              "      <td>-167</td>\n",
              "      <td>5</td>\n",
              "      <td>91</td>\n",
              "      <td>5044</td>\n",
              "      <td>6200</td>\n",
              "      <td>3444</td>\n",
              "      <td>-341</td>\n",
              "      <td>-16</td>\n",
              "      <td>189</td>\n",
              "      <td>0.0</td>\n",
              "      <td>1.0</td>\n",
              "      <td>0.0</td>\n",
              "    </tr>\n",
              "    <tr>\n",
              "      <th>9</th>\n",
              "      <td>756</td>\n",
              "      <td>7456</td>\n",
              "      <td>-2260</td>\n",
              "      <td>-337</td>\n",
              "      <td>-454</td>\n",
              "      <td>-196</td>\n",
              "      <td>-3948</td>\n",
              "      <td>-6496</td>\n",
              "      <td>-1980</td>\n",
              "      <td>-543</td>\n",
              "      <td>-62</td>\n",
              "      <td>331</td>\n",
              "      <td>5056</td>\n",
              "      <td>6076</td>\n",
              "      <td>3516</td>\n",
              "      <td>-338</td>\n",
              "      <td>112</td>\n",
              "      <td>104</td>\n",
              "      <td>0.0</td>\n",
              "      <td>1.0</td>\n",
              "      <td>0.0</td>\n",
              "    </tr>\n",
              "  </tbody>\n",
              "</table>\n",
              "</div>"
            ],
            "text/plain": [
              "   chest_ax  chest_ay  chest_az  chest_gx  ...  back_gz    0    1    2\n",
              "0       160      5932     -4356      1868  ...      161  0.0  1.0  0.0\n",
              "1      2600      7764       980      -404  ...      124  0.0  1.0  0.0\n",
              "2      7740      -252      4344      -412  ...      104  1.0  0.0  0.0\n",
              "3      5828     -5928      -688      -148  ...      160  0.0  1.0  0.0\n",
              "4      1608      -944      9376      -275  ...      123  0.0  0.0  1.0\n",
              "5       704      -660      9336      -395  ...       83  0.0  0.0  1.0\n",
              "6      5592     -5948      -736      -424  ...      109  0.0  1.0  0.0\n",
              "7      4604      1064      8064      -344  ...      149  1.0  0.0  0.0\n",
              "8       784      7460     -2268        71  ...      189  0.0  1.0  0.0\n",
              "9       756      7456     -2260      -337  ...      104  0.0  1.0  0.0\n",
              "\n",
              "[10 rows x 21 columns]"
            ]
          },
          "metadata": {
            "tags": []
          },
          "execution_count": 18
        }
      ]
    },
    {
      "cell_type": "code",
      "metadata": {
        "id": "O_pV0aha-GUM"
      },
      "source": [
        "xtrain.rename(columns={0:'activity_0',1:'activity_1',2:'activity_2'},inplace=True)"
      ],
      "execution_count": null,
      "outputs": []
    },
    {
      "cell_type": "code",
      "metadata": {
        "colab": {
          "base_uri": "https://localhost:8080/",
          "height": 217
        },
        "id": "YJAK8e0he6Kf",
        "outputId": "eb3b96b1-82a0-4c28-8f3a-13b6e689353e"
      },
      "source": [
        "enc_tedf=pd.DataFrame(enc.transform(xtest.activity.values.reshape(-1,1)).toarray())\n",
        "xtest=xtest.iloc[:,0:18].join(enc_tedf)\n",
        "xtest.rename(columns={0:'sitting',1:'sleeping',2:'standing'},inplace=True)\n",
        "xtest.head()"
      ],
      "execution_count": null,
      "outputs": [
        {
          "output_type": "execute_result",
          "data": {
            "text/html": [
              "<div>\n",
              "<style scoped>\n",
              "    .dataframe tbody tr th:only-of-type {\n",
              "        vertical-align: middle;\n",
              "    }\n",
              "\n",
              "    .dataframe tbody tr th {\n",
              "        vertical-align: top;\n",
              "    }\n",
              "\n",
              "    .dataframe thead th {\n",
              "        text-align: right;\n",
              "    }\n",
              "</style>\n",
              "<table border=\"1\" class=\"dataframe\">\n",
              "  <thead>\n",
              "    <tr style=\"text-align: right;\">\n",
              "      <th></th>\n",
              "      <th>chest_ax</th>\n",
              "      <th>chest_ay</th>\n",
              "      <th>chest_az</th>\n",
              "      <th>chest_gx</th>\n",
              "      <th>chest_gy</th>\n",
              "      <th>chest_gz</th>\n",
              "      <th>knee_ax</th>\n",
              "      <th>knee_ay</th>\n",
              "      <th>knee_az</th>\n",
              "      <th>knee_gx</th>\n",
              "      <th>knee_gy</th>\n",
              "      <th>knee_gz</th>\n",
              "      <th>back_ax</th>\n",
              "      <th>back_ay</th>\n",
              "      <th>back_az</th>\n",
              "      <th>back_gx</th>\n",
              "      <th>back_gy</th>\n",
              "      <th>back_gz</th>\n",
              "      <th>sitting</th>\n",
              "      <th>sleeping</th>\n",
              "      <th>standing</th>\n",
              "    </tr>\n",
              "  </thead>\n",
              "  <tbody>\n",
              "    <tr>\n",
              "      <th>0</th>\n",
              "      <td>7264</td>\n",
              "      <td>668</td>\n",
              "      <td>5444</td>\n",
              "      <td>-264</td>\n",
              "      <td>-76</td>\n",
              "      <td>104</td>\n",
              "      <td>52</td>\n",
              "      <td>6756</td>\n",
              "      <td>-3496</td>\n",
              "      <td>-368</td>\n",
              "      <td>-23</td>\n",
              "      <td>103</td>\n",
              "      <td>72</td>\n",
              "      <td>7236</td>\n",
              "      <td>4752</td>\n",
              "      <td>-390</td>\n",
              "      <td>48</td>\n",
              "      <td>110</td>\n",
              "      <td>1.0</td>\n",
              "      <td>0.0</td>\n",
              "      <td>0.0</td>\n",
              "    </tr>\n",
              "    <tr>\n",
              "      <th>1</th>\n",
              "      <td>876</td>\n",
              "      <td>7268</td>\n",
              "      <td>-2488</td>\n",
              "      <td>-539</td>\n",
              "      <td>39</td>\n",
              "      <td>119</td>\n",
              "      <td>-4048</td>\n",
              "      <td>-6496</td>\n",
              "      <td>-2008</td>\n",
              "      <td>-404</td>\n",
              "      <td>87</td>\n",
              "      <td>306</td>\n",
              "      <td>4952</td>\n",
              "      <td>6124</td>\n",
              "      <td>3496</td>\n",
              "      <td>-328</td>\n",
              "      <td>13</td>\n",
              "      <td>17</td>\n",
              "      <td>0.0</td>\n",
              "      <td>1.0</td>\n",
              "      <td>0.0</td>\n",
              "    </tr>\n",
              "    <tr>\n",
              "      <th>2</th>\n",
              "      <td>2708</td>\n",
              "      <td>7656</td>\n",
              "      <td>1624</td>\n",
              "      <td>-67</td>\n",
              "      <td>-201</td>\n",
              "      <td>36</td>\n",
              "      <td>-5520</td>\n",
              "      <td>376</td>\n",
              "      <td>6684</td>\n",
              "      <td>-314</td>\n",
              "      <td>-130</td>\n",
              "      <td>121</td>\n",
              "      <td>-2720</td>\n",
              "      <td>1004</td>\n",
              "      <td>8424</td>\n",
              "      <td>-493</td>\n",
              "      <td>-142</td>\n",
              "      <td>85</td>\n",
              "      <td>0.0</td>\n",
              "      <td>0.0</td>\n",
              "      <td>1.0</td>\n",
              "    </tr>\n",
              "    <tr>\n",
              "      <th>3</th>\n",
              "      <td>1920</td>\n",
              "      <td>-1084</td>\n",
              "      <td>8820</td>\n",
              "      <td>-254</td>\n",
              "      <td>-435</td>\n",
              "      <td>199</td>\n",
              "      <td>-6236</td>\n",
              "      <td>-672</td>\n",
              "      <td>6056</td>\n",
              "      <td>-396</td>\n",
              "      <td>-90</td>\n",
              "      <td>113</td>\n",
              "      <td>7212</td>\n",
              "      <td>1172</td>\n",
              "      <td>-3320</td>\n",
              "      <td>-309</td>\n",
              "      <td>-65</td>\n",
              "      <td>114</td>\n",
              "      <td>0.0</td>\n",
              "      <td>0.0</td>\n",
              "      <td>1.0</td>\n",
              "    </tr>\n",
              "    <tr>\n",
              "      <th>4</th>\n",
              "      <td>3804</td>\n",
              "      <td>7236</td>\n",
              "      <td>2016</td>\n",
              "      <td>-367</td>\n",
              "      <td>86</td>\n",
              "      <td>100</td>\n",
              "      <td>804</td>\n",
              "      <td>7860</td>\n",
              "      <td>-712</td>\n",
              "      <td>-181</td>\n",
              "      <td>548</td>\n",
              "      <td>203</td>\n",
              "      <td>928</td>\n",
              "      <td>-8084</td>\n",
              "      <td>-112</td>\n",
              "      <td>-233</td>\n",
              "      <td>-67</td>\n",
              "      <td>269</td>\n",
              "      <td>0.0</td>\n",
              "      <td>1.0</td>\n",
              "      <td>0.0</td>\n",
              "    </tr>\n",
              "  </tbody>\n",
              "</table>\n",
              "</div>"
            ],
            "text/plain": [
              "   chest_ax  chest_ay  chest_az  chest_gx  ...  back_gz  sitting  sleeping  standing\n",
              "0      7264       668      5444      -264  ...      110      1.0       0.0       0.0\n",
              "1       876      7268     -2488      -539  ...       17      0.0       1.0       0.0\n",
              "2      2708      7656      1624       -67  ...       85      0.0       0.0       1.0\n",
              "3      1920     -1084      8820      -254  ...      114      0.0       0.0       1.0\n",
              "4      3804      7236      2016      -367  ...      269      0.0       1.0       0.0\n",
              "\n",
              "[5 rows x 21 columns]"
            ]
          },
          "metadata": {
            "tags": []
          },
          "execution_count": 20
        }
      ]
    },
    {
      "cell_type": "code",
      "metadata": {
        "colab": {
          "base_uri": "https://localhost:8080/"
        },
        "id": "lPdRbtDD-DcX",
        "outputId": "f0fc18e4-d75e-47f6-c21c-1123cd6deb4e"
      },
      "source": [
        "logreg = LogisticRegression(max_iter=100)\n",
        "logreg.fit(xtrain,ytrain.values.ravel())\n"
      ],
      "execution_count": null,
      "outputs": [
        {
          "output_type": "stream",
          "text": [
            "/usr/local/lib/python3.6/dist-packages/sklearn/linear_model/_logistic.py:940: ConvergenceWarning: lbfgs failed to converge (status=1):\n",
            "STOP: TOTAL NO. of ITERATIONS REACHED LIMIT.\n",
            "\n",
            "Increase the number of iterations (max_iter) or scale the data as shown in:\n",
            "    https://scikit-learn.org/stable/modules/preprocessing.html\n",
            "Please also refer to the documentation for alternative solver options:\n",
            "    https://scikit-learn.org/stable/modules/linear_model.html#logistic-regression\n",
            "  extra_warning_msg=_LOGISTIC_SOLVER_CONVERGENCE_MSG)\n"
          ],
          "name": "stderr"
        },
        {
          "output_type": "execute_result",
          "data": {
            "text/plain": [
              "LogisticRegression(C=1.0, class_weight=None, dual=False, fit_intercept=True,\n",
              "                   intercept_scaling=1, l1_ratio=None, max_iter=100,\n",
              "                   multi_class='auto', n_jobs=None, penalty='l2',\n",
              "                   random_state=None, solver='lbfgs', tol=0.0001, verbose=0,\n",
              "                   warm_start=False)"
            ]
          },
          "metadata": {
            "tags": []
          },
          "execution_count": 21
        }
      ]
    },
    {
      "cell_type": "code",
      "metadata": {
        "id": "nBlVaYUlUZzw"
      },
      "source": [
        "import pickle\n",
        "filename = 'logistic_regression_model.sav'\n",
        "pickle.dump(logreg, open(filename, 'wb'))"
      ],
      "execution_count": null,
      "outputs": []
    },
    {
      "cell_type": "code",
      "metadata": {
        "id": "4bIy_IKxhu48"
      },
      "source": [
        "import pickle\n",
        "logreg=pickle.load(open('logistic_regression_model.sav','rb'))"
      ],
      "execution_count": null,
      "outputs": []
    },
    {
      "cell_type": "code",
      "metadata": {
        "colab": {
          "base_uri": "https://localhost:8080/"
        },
        "id": "wcKjTF-kHL3O",
        "outputId": "4409c67f-87ed-4860-ebc7-2e99298be59e"
      },
      "source": [
        "print(\"Accuracy:\",metrics.accuracy_score(ytest, y_pred))\n",
        "print(\"Precision:\",metrics.precision_score(ytest, y_pred))\n",
        "print(\"Recall:\",metrics.recall_score(ytest, y_pred))\n",
        "print(\"F1 Score:\",metrics.f1_score(ytest, y_pred))"
      ],
      "execution_count": null,
      "outputs": [
        {
          "output_type": "stream",
          "text": [
            "Accuracy: 0.9900587920897915\n",
            "Precision: 0.990414669722859\n",
            "Recall: 0.9902083333333334\n",
            "F1 Score: 0.9903114907802897\n"
          ],
          "name": "stdout"
        }
      ]
    },
    {
      "cell_type": "code",
      "metadata": {
        "colab": {
          "base_uri": "https://localhost:8080/",
          "height": 278
        },
        "id": "YTeqxpKyPhlY",
        "outputId": "4edb4e6f-8b20-42db-e72d-c15e02ff789a"
      },
      "source": [
        "metrics.plot_roc_curve(logreg,xtest,ytest)\n",
        "plt.grid()\n",
        "plt.savefig(\"log_roc.jpg\")\n",
        "plt.show()"
      ],
      "execution_count": null,
      "outputs": [
        {
          "output_type": "display_data",
          "data": {
            "image/png": "[encoded data removed]",
            "text/plain": [
              "<Figure size 432x288 with 1 Axes>"
            ]
          },
          "metadata": {
            "tags": []
          }
        }
      ]
    },
    {
      "cell_type": "code",
      "metadata": {
        "colab": {
          "base_uri": "https://localhost:8080/"
        },
        "id": "KCPNbw_D6HjQ",
        "outputId": "2bc0d62b-6637-455f-ed2c-10f6b5d3ac26"
      },
      "source": [
        "y_pred_train=logreg.predict(xtrain)\n",
        "print(\"Accuracy:\",metrics.accuracy_score(ytrain, y_pred_train))\n",
        "print(\"Precision:\",metrics.precision_score(ytrain, y_pred_train))\n",
        "print(\"Recall:\",metrics.recall_score(ytrain, y_pred_train))\n",
        "print(\"F1 Score:\",metrics.f1_score(ytrain, y_pred_train))"
      ],
      "execution_count": null,
      "outputs": [
        {
          "output_type": "stream",
          "text": [
            "Accuracy: 0.9886687571265679\n",
            "Precision: 0.990194705140776\n",
            "Recall: 0.9875663593182453\n",
            "F1 Score: 0.9888787857592503\n"
          ],
          "name": "stdout"
        }
      ]
    },
    {
      "cell_type": "code",
      "metadata": {
        "colab": {
          "base_uri": "https://localhost:8080/",
          "height": 278
        },
        "id": "hdvpsso5ZtBN",
        "outputId": "d4044727-6e9f-4ed1-fd41-eed236736d18"
      },
      "source": [
        "import matplotlib.pyplot as plt\n",
        "from sklearn.metrics import plot_confusion_matrix\n",
        "plot_confusion_matrix(logreg,xtest,ytest,cmap=plt.cm.Greys)\n",
        "plt.savefig('lr.jpg')\n",
        "plt.show()\n"
      ],
      "execution_count": null,
      "outputs": [
        {
          "output_type": "display_data",
          "data": {
            "image/png": "[encoded data removed]",
            "text/plain": [
              "<Figure size 432x288 with 2 Axes>"
            ]
          },
          "metadata": {
            "tags": []
          }
        }
      ]
    },
    {
      "cell_type": "code",
      "metadata": {
        "id": "6tYO5QVZPcp7"
      },
      "source": [
        "from sklearn.preprocessing import MinMaxScaler\n",
        "scaling = MinMaxScaler(feature_range=(-1,1)).fit(xtrain)\n",
        "xtrain = scaling.transform(xtrain)\n",
        "xtest = scaling.transform(xtest)"
      ],
      "execution_count": null,
      "outputs": []
    },
    {
      "cell_type": "code",
      "metadata": {
        "id": "mvJ7xxAZHVEl"
      },
      "source": [
        "from sklearn import svm\n",
        "\n",
        "svmmodel = svm.SVC(kernel='linear') # Linear Kernel\n",
        "svmmodel.fit(xtrain, ytrain.values.ravel())\n",
        "y_pred_svm = svmmodel.predict(xtest)"
      ],
      "execution_count": null,
      "outputs": []
    },
    {
      "cell_type": "code",
      "metadata": {
        "id": "7BE3tuhj0duU"
      },
      "source": [
        "import matplotlib.pyplot as plt\n",
        "from sklearn.model_selection import learning_curve\n",
        "from sklearn import svm\n",
        "\n",
        "def plot_learning_curve(estimator, title, X, y, ylim=None, cv=None,\n",
        "    n_jobs=1, train_sizes=np.linspace(.1, 1.0, 10)):\n",
        "   \n",
        "    plt.figure()\n",
        "    plt.title(title)\n",
        "    if ylim is not None:\n",
        "        plt.ylim(*ylim)\n",
        "    plt.xlabel(\"Training examples\")\n",
        "    plt.ylabel(\"Score\")\n",
        "    train_sizes, train_scores, test_scores = learning_curve(\n",
        "    estimator, X, y, cv=None, n_jobs=n_jobs, train_sizes=train_sizes)\n",
        "    train_scores_mean = np.mean(train_scores, axis=1)\n",
        "    train_scores_std = np.std(train_scores, axis=1)\n",
        "   \n",
        "    plt.grid()\n",
        "   \n",
        "    plt.fill_between(train_sizes, train_scores_mean - train_scores_std,\n",
        "    train_scores_mean + train_scores_std, alpha=0.1,\n",
        "    color=\"r\")\n",
        "   \n",
        "    plt.plot(train_sizes, train_scores_mean, 'o-', color=\"r\",\n",
        "    label=\"Training score\")\n",
        "   \n",
        "    plt.legend(loc=\"best\")\n",
        "    return plt\n",
        "\n",
        "estimator = svm.SVC(kernel='linear') # Linear Kernel\n",
        "\n",
        "plot_learning_curve(estimator, \"kuch bhi\", xtrain,ytrain.values.ravel())\n",
        "\n",
        "plt.show()"
      ],
      "execution_count": null,
      "outputs": []
    },
    {
      "cell_type": "code",
      "metadata": {
        "id": "CGW2IGfvU0Jl"
      },
      "source": [
        "import pickle\n",
        "filename = 'svm_model.sav'\n",
        "pickle.dump(svmmodel, open(filename, 'wb'))"
      ],
      "execution_count": null,
      "outputs": []
    },
    {
      "cell_type": "code",
      "metadata": {
        "id": "uOrRVaHiHp3t"
      },
      "source": [
        "import pickle\n",
        "clf=pickle.load(open('svm_model.sav','rb'))"
      ],
      "execution_count": null,
      "outputs": []
    },
    {
      "cell_type": "code",
      "metadata": {
        "id": "5LPAVwjxPDo4"
      },
      "source": [
        "y_pred_svm=clf.predict(xtest)"
      ],
      "execution_count": null,
      "outputs": []
    },
    {
      "cell_type": "code",
      "metadata": {
        "colab": {
          "base_uri": "https://localhost:8080/",
          "height": 278
        },
        "id": "BXVaNM1YP9qF",
        "outputId": "728a6979-a450-4080-cb4a-8165432fcde1"
      },
      "source": [
        "metrics.plot_roc_curve(clf,xtest,ytest)\n",
        "plt.grid()\n",
        "plt.savefig(\"svm_roc.jpg\")\n",
        "plt.show()"
      ],
      "execution_count": null,
      "outputs": [
        {
          "output_type": "display_data",
          "data": {
            "image/png": "[encoded data removed]",
            "text/plain": [
              "<Figure size 432x288 with 1 Axes>"
            ]
          },
          "metadata": {
            "tags": []
          }
        }
      ]
    },
    {
      "cell_type": "code",
      "metadata": {
        "colab": {
          "base_uri": "https://localhost:8080/"
        },
        "id": "uExkHDJcPb4N",
        "outputId": "42c658ba-1172-461b-c70f-e70cd184fa99"
      },
      "source": [
        "print(\"Accuracy:\",metrics.accuracy_score(ytest, y_pred_svm))\n",
        "print(\"Precision:\",metrics.precision_score(ytest, y_pred_svm))\n",
        "print(\"Recall:\",metrics.recall_score(ytest, y_pred_svm))\n",
        "print(\"F1 Score:\",metrics.f1_score(ytest, y_pred_svm))"
      ],
      "execution_count": null,
      "outputs": [
        {
          "output_type": "stream",
          "text": [
            "Accuracy: 0.997434526990914\n",
            "Precision: 0.9966722129783694\n",
            "Recall: 0.9983333333333333\n",
            "F1 Score: 0.9975020815986677\n"
          ],
          "name": "stdout"
        }
      ]
    },
    {
      "cell_type": "code",
      "metadata": {
        "colab": {
          "base_uri": "https://localhost:8080/",
          "height": 278
        },
        "id": "iLoPlFUrahve",
        "outputId": "d0065e16-b792-488f-a28c-bda58c6ab6cc"
      },
      "source": [
        "import matplotlib.pyplot as plt\n",
        "from sklearn.metrics import plot_confusion_matrix\n",
        "plot_confusion_matrix(clf,xtest,ytest)\n",
        "plt.savefig('svm.jpg')\n",
        "plt.show()"
      ],
      "execution_count": null,
      "outputs": [
        {
          "output_type": "display_data",
          "data": {
            "image/png": "[encoded data removed]",
            "text/plain": [
              "<Figure size 432x288 with 2 Axes>"
            ]
          },
          "metadata": {
            "tags": []
          }
        }
      ]
    },
    {
      "cell_type": "code",
      "metadata": {
        "id": "__OldW694-j1"
      },
      "source": [
        "y_pred_svm_train=svmmodel.predict(xtrain)"
      ],
      "execution_count": null,
      "outputs": []
    },
    {
      "cell_type": "code",
      "metadata": {
        "colab": {
          "base_uri": "https://localhost:8080/"
        },
        "id": "U8i8IPSR42dd",
        "outputId": "62fc3d1c-a374-4553-d6c8-322d46a3ba9d"
      },
      "source": [
        "print(\"Accuracy:\",metrics.accuracy_score(ytrain, y_pred_svm_train))\n",
        "print(\"Precision:\",metrics.precision_score(ytrain, y_pred_svm_train))\n",
        "print(\"Recall:\",metrics.recall_score(ytrain, y_pred_svm_train))\n",
        "print(\"F1 Score:\",metrics.f1_score(ytrain, y_pred_svm_train))"
      ],
      "execution_count": null,
      "outputs": [
        {
          "output_type": "stream",
          "text": [
            "Accuracy: 0.9981114595210946\n",
            "Precision: 0.9972805243706855\n",
            "Recall: 0.9990220732048058\n",
            "F1 Score: 0.9981505391352898\n"
          ],
          "name": "stdout"
        }
      ]
    },
    {
      "cell_type": "code",
      "metadata": {
        "colab": {
          "base_uri": "https://localhost:8080/"
        },
        "id": "kJ9s51F1QAca",
        "outputId": "5af7eccd-4552-484d-c7ff-00485d524f00"
      },
      "source": [
        "ytest.value_counts()"
      ],
      "execution_count": null,
      "outputs": [
        {
          "output_type": "execute_result",
          "data": {
            "text/plain": [
              "type\n",
              "1       4800\n",
              "0       4555\n",
              "dtype: int64"
            ]
          },
          "metadata": {
            "tags": []
          },
          "execution_count": 55
        }
      ]
    },
    {
      "cell_type": "code",
      "metadata": {
        "colab": {
          "base_uri": "https://localhost:8080/"
        },
        "id": "7Vt5r3lgQaJi",
        "outputId": "8a2d8cab-fe64-44f1-a73a-83166ef51068"
      },
      "source": [
        "from sklearn.neighbors import KNeighborsClassifier\n",
        "knnmodel = KNeighborsClassifier(n_neighbors=3)\n",
        "knnmodel.fit(xtrain,ytrain.values.ravel())"
      ],
      "execution_count": null,
      "outputs": [
        {
          "output_type": "execute_result",
          "data": {
            "text/plain": [
              "KNeighborsClassifier(algorithm='auto', leaf_size=30, metric='minkowski',\n",
              "                     metric_params=None, n_jobs=None, n_neighbors=3, p=2,\n",
              "                     weights='uniform')"
            ]
          },
          "metadata": {
            "tags": []
          },
          "execution_count": 33
        }
      ]
    },
    {
      "cell_type": "code",
      "metadata": {
        "id": "nWIShxhxypFP"
      },
      "source": [
        "import pickle\n",
        "filename = 'knn_model.sav'\n",
        "pickle.dump(knnmodel, open(filename, 'wb'))"
      ],
      "execution_count": null,
      "outputs": []
    },
    {
      "cell_type": "code",
      "metadata": {
        "id": "BmYqK4dQIOtp"
      },
      "source": [
        "knnmodel=pickle.load(open('knn_model.sav','rb'))"
      ],
      "execution_count": null,
      "outputs": []
    },
    {
      "cell_type": "code",
      "metadata": {
        "colab": {
          "base_uri": "https://localhost:8080/",
          "height": 278
        },
        "id": "a6v9T8TtQLIU",
        "outputId": "0ede7beb-b324-4a90-ed57-d5ab1f774206"
      },
      "source": [
        "import matplotlib.pyplot as plt\n",
        "\n",
        "metrics.plot_roc_curve(knnmodel,xtest,ytest)\n",
        "plt.grid()\n",
        "plt.savefig(\"knn_roc.jpg\")\n",
        "plt.show()"
      ],
      "execution_count": null,
      "outputs": [
        {
          "output_type": "display_data",
          "data": {
            "image/png": "[encoded data removed]",
            "text/plain": [
              "<Figure size 432x288 with 1 Axes>"
            ]
          },
          "metadata": {
            "tags": []
          }
        }
      ]
    },
    {
      "cell_type": "code",
      "metadata": {
        "id": "aqX24wb0ROtM"
      },
      "source": [
        "y_pred_knn=knnmodel.predict(xtest)"
      ],
      "execution_count": null,
      "outputs": []
    },
    {
      "cell_type": "code",
      "metadata": {
        "colab": {
          "base_uri": "https://localhost:8080/"
        },
        "id": "jvGWxblPRZi_",
        "outputId": "1cc25891-709f-4e39-ddde-f5debcf470d3"
      },
      "source": [
        "print(\"Accuracy:\",metrics.accuracy_score(ytest, y_pred_knn))\n",
        "print(\"Precision:\",metrics.precision_score(ytest, y_pred_knn))\n",
        "print(\"Recall:\",metrics.recall_score(ytest, y_pred_knn))\n",
        "print(\"F1 Score:\",metrics.f1_score(ytest, y_pred_knn))"
      ],
      "execution_count": null,
      "outputs": [
        {
          "output_type": "stream",
          "text": [
            "Accuracy: 1.0\n",
            "Precision: 1.0\n",
            "Recall: 1.0\n",
            "F1 Score: 1.0\n"
          ],
          "name": "stdout"
        }
      ]
    },
    {
      "cell_type": "code",
      "metadata": {
        "colab": {
          "base_uri": "https://localhost:8080/",
          "height": 278
        },
        "id": "JeaKxHz8ara0",
        "outputId": "1d12fd37-8bd1-473a-ac93-9ca3d2df7aa1"
      },
      "source": [
        "import matplotlib.pyplot as plt\n",
        "from sklearn.metrics import plot_confusion_matrix\n",
        "plot_confusion_matrix(knnmodel,xtest,ytest)\n",
        "plt.savefig('knn.jpg')\n",
        "plt.show()"
      ],
      "execution_count": null,
      "outputs": [
        {
          "output_type": "display_data",
          "data": {
            "image/png": "[encoded data removed]",
            "text/plain": [
              "<Figure size 432x288 with 2 Axes>"
            ]
          },
          "metadata": {
            "tags": []
          }
        }
      ]
    },
    {
      "cell_type": "code",
      "metadata": {
        "colab": {
          "base_uri": "https://localhost:8080/"
        },
        "id": "RVPYgesjRgRX",
        "outputId": "ab97adcb-3efc-40b4-9341-2fe348b27422"
      },
      "source": [
        "y_pred_knn_train=knnmodel.predict(xtrain)\n",
        "print(\"Accuracy:\",metrics.accuracy_score(ytrain, y_pred_knn_train))\n",
        "print(\"Precision:\",metrics.precision_score(ytrain, y_pred_knn_train))\n",
        "print(\"Recall:\",metrics.recall_score(ytrain, y_pred_knn_train))\n",
        "print(\"F1 Score:\",metrics.f1_score(ytrain, y_pred_knn_train))"
      ],
      "execution_count": null,
      "outputs": [
        {
          "output_type": "stream",
          "text": [
            "Accuracy: 1.0\n",
            "Precision: 1.0\n",
            "Recall: 1.0\n",
            "F1 Score: 1.0\n"
          ],
          "name": "stdout"
        }
      ]
    },
    {
      "cell_type": "code",
      "metadata": {
        "colab": {
          "base_uri": "https://localhost:8080/"
        },
        "id": "m6SXBX397joO",
        "outputId": "baefe038-b574-4d4b-b0f0-de3eca14109f"
      },
      "source": [
        "from sklearn.metrics import confusion_matrix\n",
        "confusion_matrix(ytest, y_pred_knn)"
      ],
      "execution_count": null,
      "outputs": [
        {
          "output_type": "execute_result",
          "data": {
            "text/plain": [
              "array([[4555,    0],\n",
              "       [   0, 4800]])"
            ]
          },
          "metadata": {
            "tags": []
          },
          "execution_count": 38
        }
      ]
    },
    {
      "cell_type": "code",
      "metadata": {
        "colab": {
          "base_uri": "https://localhost:8080/",
          "height": 278
        },
        "id": "7T7SUksN2PmH",
        "outputId": "057234ee-6e35-43c3-d51a-b1e84b570e13"
      },
      "source": [
        "from sklearn.metrics import plot_roc_curve\n",
        "\n",
        "classifiers = [logreg, clf, knnmodel]\n",
        "ax = plt.gca()\n",
        "for i in classifiers:\n",
        "    plot_roc_curve(i, xtest, ytest, ax=ax)\n",
        "for line in plt.gca().lines:\n",
        "  line.set_linewidth(0.5)\n",
        "plt.grid()\n",
        "plt.savefig(\"roc.jpg\")\n",
        "plt.show()    "
      ],
      "execution_count": null,
      "outputs": [
        {
          "output_type": "display_data",
          "data": {
            "image/png": "[encoded data removed]",
            "text/plain": [
              "<Figure size 432x288 with 1 Axes>"
            ]
          },
          "metadata": {
            "tags": []
          }
        }
      ]
    },
    {
      "cell_type": "code",
      "metadata": {
        "id": "u9B00fUWStST"
      },
      "source": [
        ""
      ],
      "execution_count": null,
      "outputs": []
    }
  ]
}